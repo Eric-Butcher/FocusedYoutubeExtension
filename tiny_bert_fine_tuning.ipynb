{
 "cells": [
  {
   "cell_type": "code",
   "execution_count": 1,
   "metadata": {},
   "outputs": [
    {
     "name": "stderr",
     "output_type": "stream",
     "text": [
      "/Users/purusoni/miniconda3/envs/youtube_classifier_extention/lib/python3.11/site-packages/tqdm/auto.py:21: TqdmWarning: IProgress not found. Please update jupyter and ipywidgets. See https://ipywidgets.readthedocs.io/en/stable/user_install.html\n",
      "  from .autonotebook import tqdm as notebook_tqdm\n"
     ]
    }
   ],
   "source": [
    "import tensorflow as tf\n",
    "from tensorflow.keras.utils import to_categorical\n",
    "from transformers import BertTokenizer, TFBertForSequenceClassification\n",
    "from sklearn.model_selection import train_test_split\n",
    "import pandas as pd\n",
    "import torch\n",
    "from pathlib import Path\n",
    "import time\n",
    "import numpy as np\n",
    "import matplotlib.pyplot as plt\n",
    "\n",
    "# Fix random seed for reproducibility\n",
    "np.random.seed(42)\n",
    "tf.random.set_seed(42)\n",
    "\n",
    "MAX_LEN = 128"
   ]
  },
  {
   "cell_type": "code",
   "execution_count": 2,
   "metadata": {},
   "outputs": [],
   "source": [
    "labeled_mapped_csv_path = Path.cwd() / \"labeled_mapped.csv\"\n",
    "\n",
    "labels_to_ids = {\n",
    "    \"Educational\": 0,\n",
    "    \"Entertainment\": 1,\n",
    "}\n",
    "\n",
    "num_labels = len(labels_to_ids)"
   ]
  },
  {
   "cell_type": "code",
   "execution_count": 3,
   "metadata": {},
   "outputs": [
    {
     "name": "stdout",
     "output_type": "stream",
     "text": [
      "Column names: ['label', 'title', 'path']\n",
      "Dataframe shape: (2736, 3)\n",
      "\n",
      "Elements per label before making them equal:\n",
      "label\n",
      "Entertainment    1825\n",
      "Educational       911\n",
      "Name: count, dtype: int64\n",
      "\n",
      "Elements per label after making them equal:\n",
      "label\n",
      "Entertainment    911\n",
      "Educational      911\n",
      "Name: count, dtype: int64\n",
      "\n",
      "Dataframe shape: (1822, 3)\n",
      "Dataframe head:\n",
      "           label                                              title   path\n",
      "0  Entertainment  SIDEMEN GUESS THE LINK OFFENSIVE EDITION by Mo...  1.jpg\n",
      "1  Entertainment  Our Most Demonic Experience  Zak Bagans Haunte...  2.jpg\n",
      "2  Entertainment  How SpaceX and Boeing will get Astronauts to t...  3.jpg\n",
      "3  Entertainment  'TIRED OF IT' Voters sound off after latest at...  4.jpg\n",
      "4    Educational  Can We Predict An Outbreak's Future - Modeling...  5.jpg\n"
     ]
    }
   ],
   "source": [
    "# Load data from CSV file\n",
    "df = pd.read_csv(labeled_mapped_csv_path)\n",
    "\n",
    "# Read header for column names\n",
    "column_names = df.columns.tolist()\n",
    "print(\"Column names:\", column_names)\n",
    "print(\"Dataframe shape:\", df.shape)\n",
    "\n",
    "# Print number of elements for each label\n",
    "print()\n",
    "print(\"Elements per label before making them equal:\")\n",
    "print(df['label'].value_counts())\n",
    "\n",
    "# Only retain equal number of elements for each label\n",
    "least_number_of_elements = df['label'].value_counts().min()\n",
    "df = df.groupby('label').head(least_number_of_elements).reset_index(drop=True)\n",
    "\n",
    "# Print number of elements for each label\n",
    "print()\n",
    "print(\"Elements per label after making them equal:\")\n",
    "print(df['label'].value_counts())\n",
    "\n",
    "print()\n",
    "print(\"Dataframe shape:\", df.shape)\n",
    "print(\"Dataframe head:\")\n",
    "print(df.head())\n"
   ]
  },
  {
   "cell_type": "code",
   "execution_count": 4,
   "metadata": {},
   "outputs": [
    {
     "name": "stdout",
     "output_type": "stream",
     "text": [
      "Max length of a title in the Dataframe: 135\n"
     ]
    }
   ],
   "source": [
    "print(\"Max length of a title in the Dataframe:\", df['title'].map(len).max())"
   ]
  },
  {
   "cell_type": "code",
   "execution_count": 5,
   "metadata": {},
   "outputs": [
    {
     "name": "stdout",
     "output_type": "stream",
     "text": [
      "['Entertainment', 'Entertainment', 'Entertainment', 'Entertainment', 'Educational']\n",
      "[1 1 1 1 0]\n",
      "['SIDEMEN GUESS THE LINK OFFENSIVE EDITION by MoreSidemen', 'Our Most Demonic Experience  Zak Bagans Haunted Museum by Sam and Colby', 'How SpaceX and Boeing will get Astronauts to the ISS by EverydayAstronaut', \"'TIRED OF IT' Voters sound off after latest attacks on Trump by FoxNews\", \"Can We Predict An Outbreak's Future - Modeling Crash Course Outbreak Science #9 by crashcourse\"]\n",
      "Lenght of dataset:  1822\n"
     ]
    }
   ],
   "source": [
    "# Split data into labels and titles\n",
    "all_labels = df[\"label\"].tolist()\n",
    "all_titles = df[\"title\"].tolist()\n",
    "\n",
    "# Print first 5 all_labels and all_titles\n",
    "print(all_labels[:5])\n",
    "\n",
    "# Convert all_labels to integers\n",
    "all_labels = np.vectorize(labels_to_ids.get)(all_labels)\n",
    "print(all_labels[:5])\n",
    "\n",
    "# all_labels = to_categorical(all_labels)\n",
    "# print(all_labels[:10])\n",
    "\n",
    "print(all_titles[:5])\n",
    "print(\"Lenght of dataset: \", len(all_labels))"
   ]
  },
  {
   "cell_type": "code",
   "execution_count": 6,
   "metadata": {},
   "outputs": [
    {
     "name": "stderr",
     "output_type": "stream",
     "text": [
      "2023-08-16 18:07:50.125162: I metal_plugin/src/device/metal_device.cc:1154] Metal device set to: Apple M1 Max\n",
      "2023-08-16 18:07:50.125205: I metal_plugin/src/device/metal_device.cc:296] systemMemory: 32.00 GB\n",
      "2023-08-16 18:07:50.125211: I metal_plugin/src/device/metal_device.cc:313] maxCacheSize: 10.67 GB\n",
      "2023-08-16 18:07:50.125255: I tensorflow/core/common_runtime/pluggable_device/pluggable_device_factory.cc:303] Could not identify NUMA node of platform GPU ID 0, defaulting to 0. Your kernel may not have been built with NUMA support.\n",
      "2023-08-16 18:07:50.125277: I tensorflow/core/common_runtime/pluggable_device/pluggable_device_factory.cc:269] Created TensorFlow device (/job:localhost/replica:0/task:0/device:GPU:0 with 0 MB memory) -> physical PluggableDevice (device: 0, name: METAL, pci bus id: <undefined>)\n",
      "Some weights of the PyTorch model were not used when initializing the TF 2.0 model TFBertForSequenceClassification: ['fit_denses.0.bias', 'fit_denses.2.bias', 'fit_denses.1.weight', 'fit_denses.4.weight', 'fit_denses.1.bias', 'fit_denses.3.bias', 'fit_denses.2.weight', 'fit_denses.4.bias', 'fit_denses.3.weight', 'fit_denses.0.weight']\n",
      "- This IS expected if you are initializing TFBertForSequenceClassification from a PyTorch model trained on another task or with another architecture (e.g. initializing a TFBertForSequenceClassification model from a BertForPreTraining model).\n",
      "- This IS NOT expected if you are initializing TFBertForSequenceClassification from a PyTorch model that you expect to be exactly identical (e.g. initializing a TFBertForSequenceClassification model from a BertForSequenceClassification model).\n",
      "Some weights or buffers of the TF 2.0 model TFBertForSequenceClassification were not initialized from the PyTorch model and are newly initialized: ['classifier.weight', 'classifier.bias']\n",
      "You should probably TRAIN this model on a down-stream task to be able to use it for predictions and inference.\n"
     ]
    },
    {
     "name": "stdout",
     "output_type": "stream",
     "text": [
      "Model: \"tf_bert_for_sequence_classification\"\n",
      "_________________________________________________________________\n",
      " Layer (type)                Output Shape              Param #   \n",
      "=================================================================\n",
      " bert (TFBertMainLayer)      multiple                  14350248  \n",
      "                                                                 \n",
      " dropout_13 (Dropout)        multiple                  0         \n",
      "                                                                 \n",
      " classifier (Dense)          multiple                  626       \n",
      "                                                                 \n",
      "=================================================================\n",
      "Total params: 14350874 (54.74 MB)\n",
      "Trainable params: 14350874 (54.74 MB)\n",
      "Non-trainable params: 0 (0.00 Byte)\n",
      "_________________________________________________________________\n"
     ]
    }
   ],
   "source": [
    "tokenizer = BertTokenizer.from_pretrained('huawei-noah/TinyBERT_General_4L_312D')\n",
    "tiny_bert_model = TFBertForSequenceClassification.from_pretrained('huawei-noah/TinyBERT_General_4L_312D', from_pt = True, num_labels=num_labels)\n",
    "tiny_bert_model.summary()"
   ]
  },
  {
   "cell_type": "code",
   "execution_count": 7,
   "metadata": {},
   "outputs": [],
   "source": [
    "sentences_train_val, sentences_test, labels_train_val, labels_test = train_test_split(all_titles, all_labels, test_size=0.2, random_state=42)"
   ]
  },
  {
   "cell_type": "code",
   "execution_count": 8,
   "metadata": {},
   "outputs": [
    {
     "name": "stdout",
     "output_type": "stream",
     "text": [
      "dict_keys(['input_ids', 'token_type_ids', 'attention_mask'])\n",
      "[101, 4748, 14945, 4335, 2189, 5702, 2189, 2005, 2488, 6693, 1998, 3579, 1010, 2817, 2189, 2011, 2665, 5596, 5453, 1011, 19613, 2189, 102, 0, 0, 0, 0, 0, 0, 0, 0, 0, 0, 0, 0, 0, 0, 0, 0, 0, 0, 0, 0, 0, 0, 0, 0, 0, 0, 0, 0, 0, 0, 0, 0, 0, 0, 0, 0, 0, 0, 0, 0, 0, 0, 0, 0, 0, 0, 0, 0, 0, 0, 0, 0, 0, 0]\n",
      "[1, 1, 1, 1, 1, 1, 1, 1, 1, 1, 1, 1, 1, 1, 1, 1, 1, 1, 1, 1, 1, 1, 1, 0, 0, 0, 0, 0, 0, 0, 0, 0, 0, 0, 0, 0, 0, 0, 0, 0, 0, 0, 0, 0, 0, 0, 0, 0, 0, 0, 0, 0, 0, 0, 0, 0, 0, 0, 0, 0, 0, 0, 0, 0, 0, 0, 0, 0, 0, 0, 0, 0, 0, 0, 0, 0, 0]\n"
     ]
    }
   ],
   "source": [
    "train_val_encodings = tokenizer(sentences_train_val, truncation=True, padding=True, max_length=MAX_LEN)\n",
    "test_encodings = tokenizer(sentences_test, truncation=True, padding=True, max_length=MAX_LEN)\n",
    "\n",
    "print(train_val_encodings.keys())\n",
    "print(train_val_encodings['input_ids'][0])\n",
    "print(train_val_encodings['attention_mask'][0])\n",
    "\n",
    "train_val_dataset = tf.data.Dataset.from_tensor_slices((\n",
    "    dict(train_val_encodings),\n",
    "    labels_train_val\n",
    "))\n",
    "\n",
    "test_dataset = tf.data.Dataset.from_tensor_slices((\n",
    "    dict(test_encodings),\n",
    "    labels_test\n",
    "))"
   ]
  },
  {
   "cell_type": "code",
   "execution_count": 9,
   "metadata": {},
   "outputs": [
    {
     "name": "stdout",
     "output_type": "stream",
     "text": [
      "Train dataset length:  1093\n",
      "Validation dataset length:  364\n",
      "Test dataset length:  365\n"
     ]
    }
   ],
   "source": [
    "valid_size = int(0.25 * len(train_val_dataset)) \n",
    "\n",
    "val_dataset = train_val_dataset.take(valid_size) \n",
    "train_dataset = train_val_dataset.skip(valid_size) \n",
    "\n",
    "print(\"Train dataset length: \", len(list(train_dataset)))\n",
    "print(\"Validation dataset length: \", len(list(val_dataset)))\n",
    "print(\"Test dataset length: \", len(list(test_dataset)))"
   ]
  },
  {
   "cell_type": "code",
   "execution_count": 10,
   "metadata": {},
   "outputs": [
    {
     "name": "stderr",
     "output_type": "stream",
     "text": [
      "Some weights of the PyTorch model were not used when initializing the TF 2.0 model TFBertForSequenceClassification: ['fit_denses.0.bias', 'fit_denses.2.bias', 'fit_denses.1.weight', 'fit_denses.4.weight', 'fit_denses.1.bias', 'fit_denses.3.bias', 'fit_denses.2.weight', 'fit_denses.4.bias', 'fit_denses.3.weight', 'fit_denses.0.weight']\n",
      "- This IS expected if you are initializing TFBertForSequenceClassification from a PyTorch model trained on another task or with another architecture (e.g. initializing a TFBertForSequenceClassification model from a BertForPreTraining model).\n",
      "- This IS NOT expected if you are initializing TFBertForSequenceClassification from a PyTorch model that you expect to be exactly identical (e.g. initializing a TFBertForSequenceClassification model from a BertForSequenceClassification model).\n",
      "Some weights or buffers of the TF 2.0 model TFBertForSequenceClassification were not initialized from the PyTorch model and are newly initialized: ['classifier.weight', 'classifier.bias']\n",
      "You should probably TRAIN this model on a down-stream task to be able to use it for predictions and inference.\n",
      "WARNING:absl:At this time, the v2.11+ optimizer `tf.keras.optimizers.Adam` runs slowly on M1/M2 Macs, please use the legacy Keras optimizer instead, located at `tf.keras.optimizers.legacy.Adam`.\n",
      "WARNING:absl:There is a known slowdown when using v2.11+ Keras optimizers on M1/M2 Macs. Falling back to the legacy Keras optimizer, i.e., `tf.keras.optimizers.legacy.Adam`.\n"
     ]
    },
    {
     "name": "stdout",
     "output_type": "stream",
     "text": [
      "Epoch 1/200\n"
     ]
    },
    {
     "name": "stderr",
     "output_type": "stream",
     "text": [
      "2023-08-16 18:07:54.685121: I tensorflow/core/grappler/optimizers/custom_graph_optimizer_registry.cc:114] Plugin optimizer for device_type GPU is enabled.\n"
     ]
    },
    {
     "name": "stdout",
     "output_type": "stream",
     "text": [
      "274/274 [==============================] - ETA: 0s - loss: 0.6640 - accuracy: 0.6615"
     ]
    },
    {
     "name": "stderr",
     "output_type": "stream",
     "text": [
      "2023-08-16 18:08:21.456498: I tensorflow/core/grappler/optimizers/custom_graph_optimizer_registry.cc:114] Plugin optimizer for device_type GPU is enabled.\n"
     ]
    },
    {
     "name": "stdout",
     "output_type": "stream",
     "text": [
      "274/274 [==============================] - 34s 105ms/step - loss: 0.6640 - accuracy: 0.6615 - val_loss: 0.5693 - val_accuracy: 0.8022\n",
      "Epoch 2/200\n",
      "274/274 [==============================] - 25s 90ms/step - loss: 0.4966 - accuracy: 0.8124 - val_loss: 0.4107 - val_accuracy: 0.8626\n",
      "Epoch 3/200\n",
      "274/274 [==============================] - 25s 90ms/step - loss: 0.3588 - accuracy: 0.8783 - val_loss: 0.3658 - val_accuracy: 0.8599\n",
      "Epoch 4/200\n",
      "274/274 [==============================] - 25s 89ms/step - loss: 0.2802 - accuracy: 0.9122 - val_loss: 0.3546 - val_accuracy: 0.8681\n",
      "Epoch 5/200\n",
      "274/274 [==============================] - 25s 90ms/step - loss: 0.2264 - accuracy: 0.9323 - val_loss: 0.3676 - val_accuracy: 0.8791\n",
      "Epoch 6/200\n",
      "274/274 [==============================] - 25s 90ms/step - loss: 0.1915 - accuracy: 0.9478 - val_loss: 0.3887 - val_accuracy: 0.8599\n",
      "Epoch 7/200\n",
      "274/274 [==============================] - 25s 89ms/step - loss: 0.1528 - accuracy: 0.9625 - val_loss: 0.3916 - val_accuracy: 0.8681\n",
      "Epoch 8/200\n",
      "274/274 [==============================] - ETA: 0s - loss: 0.1446 - accuracy: 0.9607Restoring model weights from the end of the best epoch: 4.\n",
      "274/274 [==============================] - 25s 90ms/step - loss: 0.1446 - accuracy: 0.9607 - val_loss: 0.3868 - val_accuracy: 0.8654\n",
      "Epoch 8: early stopping\n"
     ]
    },
    {
     "data": {
      "text/plain": [
       "('tinybert_fine_tuned/tokenizer_config.json',\n",
       " 'tinybert_fine_tuned/special_tokens_map.json',\n",
       " 'tinybert_fine_tuned/vocab.txt',\n",
       " 'tinybert_fine_tuned/added_tokens.json')"
      ]
     },
     "execution_count": 10,
     "metadata": {},
     "output_type": "execute_result"
    }
   ],
   "source": [
    "model = TFBertForSequenceClassification.from_pretrained('huawei-noah/TinyBERT_General_4L_312D', from_pt = True, num_labels=2)\n",
    "\n",
    "optimizer = tf.keras.optimizers.Adam(learning_rate=5e-6)\n",
    "loss = tf.keras.losses.SparseCategoricalCrossentropy(from_logits=True)\n",
    "\n",
    "early_stopping = tf.keras.callbacks.EarlyStopping(\n",
    "    monitor='val_loss', \n",
    "    patience=4,\n",
    "    verbose=1,\n",
    "    mode='min',\n",
    "    restore_best_weights=True,\n",
    ")\n",
    "\n",
    "model.compile(optimizer=optimizer, loss=loss, metrics=['accuracy'])\n",
    "\n",
    "model.fit(\n",
    "    train_dataset.batch(4), \n",
    "    epochs=200, \n",
    "    batch_size=4, \n",
    "    validation_data=val_dataset.batch(4), \n",
    "    callbacks=[early_stopping]\n",
    ")\n",
    "\n",
    "model.save_pretrained('tinybert_fine_tuned')\n",
    "tokenizer.save_pretrained('tinybert_fine_tuned')\n"
   ]
  },
  {
   "cell_type": "code",
   "execution_count": 16,
   "metadata": {},
   "outputs": [
    {
     "name": "stdout",
     "output_type": "stream",
     "text": [
      "Model: \"tf_bert_for_sequence_classification_3\"\n",
      "_________________________________________________________________\n",
      " Layer (type)                Output Shape              Param #   \n",
      "=================================================================\n",
      " bert (TFBertMainLayer)      multiple                  14350248  \n",
      "                                                                 \n",
      " dropout_55 (Dropout)        multiple                  0         \n",
      "                                                                 \n",
      " classifier (Dense)          multiple                  626       \n",
      "                                                                 \n",
      "=================================================================\n",
      "Total params: 14350874 (54.74 MB)\n",
      "Trainable params: 14350874 (54.74 MB)\n",
      "Non-trainable params: 0 (0.00 Byte)\n",
      "_________________________________________________________________\n"
     ]
    }
   ],
   "source": [
    "model.summary()"
   ]
  },
  {
   "cell_type": "code",
   "execution_count": 17,
   "metadata": {},
   "outputs": [
    {
     "ename": "KeyError",
     "evalue": "'loss'",
     "output_type": "error",
     "traceback": [
      "\u001b[0;31m---------------------------------------------------------------------------\u001b[0m",
      "\u001b[0;31mKeyError\u001b[0m                                  Traceback (most recent call last)",
      "Cell \u001b[0;32mIn[17], line 5\u001b[0m\n\u001b[1;32m      2\u001b[0m history \u001b[39m=\u001b[39m model\u001b[39m.\u001b[39mhistory\n\u001b[1;32m      4\u001b[0m figure, axis \u001b[39m=\u001b[39m plt\u001b[39m.\u001b[39msubplots(\u001b[39m1\u001b[39m, \u001b[39m2\u001b[39m, figsize\u001b[39m=\u001b[39m(\u001b[39m16\u001b[39m, \u001b[39m5\u001b[39m))\n\u001b[0;32m----> 5\u001b[0m axis[\u001b[39m0\u001b[39m]\u001b[39m.\u001b[39mplot(history\u001b[39m.\u001b[39;49mhistory[\u001b[39m'\u001b[39;49m\u001b[39mloss\u001b[39;49m\u001b[39m'\u001b[39;49m], label\u001b[39m=\u001b[39m\u001b[39m'\u001b[39m\u001b[39mTraining Loss\u001b[39m\u001b[39m'\u001b[39m)\n\u001b[1;32m      6\u001b[0m axis[\u001b[39m0\u001b[39m]\u001b[39m.\u001b[39mplot(history\u001b[39m.\u001b[39mhistory[\u001b[39m'\u001b[39m\u001b[39mval_loss\u001b[39m\u001b[39m'\u001b[39m], label\u001b[39m=\u001b[39m\u001b[39m'\u001b[39m\u001b[39mValidation Loss\u001b[39m\u001b[39m'\u001b[39m)\n\u001b[1;32m      7\u001b[0m axis[\u001b[39m0\u001b[39m]\u001b[39m.\u001b[39mset_title(\u001b[39m'\u001b[39m\u001b[39mTraining and Validation Loss\u001b[39m\u001b[39m'\u001b[39m)\n",
      "\u001b[0;31mKeyError\u001b[0m: 'loss'"
     ]
    },
    {
     "data": {
      "image/png": "[encoded data removed]",
      "text/plain": [
       "<Figure size 1600x500 with 2 Axes>"
      ]
     },
     "metadata": {},
     "output_type": "display_data"
    }
   ],
   "source": [
    "# Visualize the training process\n",
    "history = model.history\n",
    "\n",
    "figure, axis = plt.subplots(1, 2, figsize=(16, 5))\n",
    "axis[0].plot(history.history['loss'], label='Training Loss')\n",
    "axis[0].plot(history.history['val_loss'], label='Validation Loss')\n",
    "axis[0].set_title('Training and Validation Loss')\n",
    "axis[0].set_xlabel('Epochs')\n",
    "axis[0].set_ylabel('Loss')\n",
    "axis[0].legend()\n",
    "\n",
    "axis[1].plot(history.history['accuracy'], label='Training Accuracy')\n",
    "axis[1].plot(history.history['val_accuracy'], label='Validation Accuracy')\n",
    "axis[1].set_title('Training and Validation Accuracy')\n",
    "axis[1].set_xlabel('Epochs')\n",
    "axis[1].set_ylabel('Accuracy')\n",
    "axis[1].legend()\n",
    "\n",
    "plt.show()"
   ]
  },
  {
   "cell_type": "code",
   "execution_count": 18,
   "metadata": {},
   "outputs": [
    {
     "name": "stderr",
     "output_type": "stream",
     "text": [
      "Some layers from the model checkpoint at tinybert_fine_tuned were not used when initializing TFBertForSequenceClassification: ['dropout_27']\n",
      "- This IS expected if you are initializing TFBertForSequenceClassification from the checkpoint of a model trained on another task or with another architecture (e.g. initializing a BertForSequenceClassification model from a BertForPreTraining model).\n",
      "- This IS NOT expected if you are initializing TFBertForSequenceClassification from the checkpoint of a model that you expect to be exactly identical (initializing a BertForSequenceClassification model from a BertForSequenceClassification model).\n",
      "All the layers of TFBertForSequenceClassification were initialized from the model checkpoint at tinybert_fine_tuned.\n",
      "If your task is similar to the task the model of the checkpoint was trained on, you can already use TFBertForSequenceClassification for predictions without further training.\n"
     ]
    },
    {
     "name": "stdout",
     "output_type": "stream",
     "text": [
      "Evaluate on test data\n"
     ]
    },
    {
     "name": "stderr",
     "output_type": "stream",
     "text": [
      "2023-08-16 18:11:31.415484: I tensorflow/core/grappler/optimizers/custom_graph_optimizer_registry.cc:114] Plugin optimizer for device_type GPU is enabled.\n"
     ]
    },
    {
     "name": "stdout",
     "output_type": "stream",
     "text": [
      "183/183 [==============================] - 10s 43ms/step - loss: 0.4013 - accuracy: 0.8356\n"
     ]
    }
   ],
   "source": [
    "# Test the model\n",
    "model = TFBertForSequenceClassification.from_pretrained('tinybert_fine_tuned')\n",
    "tokenizer = BertTokenizer.from_pretrained('tinybert_fine_tuned')\n",
    "model.compile(metrics=['accuracy'])\n",
    "\n",
    "print('Evaluate on test data')\n",
    "results = model.evaluate(test_dataset.batch(2), batch_size=2)"
   ]
  },
  {
   "cell_type": "code",
   "execution_count": 54,
   "metadata": {},
   "outputs": [
    {
     "name": "stderr",
     "output_type": "stream",
     "text": [
      "Some layers from the model checkpoint at tinybert_fine_tuned were not used when initializing TFBertForSequenceClassification: ['dropout_27']\n",
      "- This IS expected if you are initializing TFBertForSequenceClassification from the checkpoint of a model trained on another task or with another architecture (e.g. initializing a BertForSequenceClassification model from a BertForPreTraining model).\n",
      "- This IS NOT expected if you are initializing TFBertForSequenceClassification from the checkpoint of a model that you expect to be exactly identical (initializing a BertForSequenceClassification model from a BertForSequenceClassification model).\n",
      "All the layers of TFBertForSequenceClassification were initialized from the model checkpoint at tinybert_fine_tuned.\n",
      "If your task is similar to the task the model of the checkpoint was trained on, you can already use TFBertForSequenceClassification for predictions without further training.\n"
     ]
    }
   ],
   "source": [
    "# Calculate time taken to process one title\n",
    "# 1. Load model\n",
    "# 2. Load tokenizer\n",
    "# 3. Load title\n",
    "# 4. Tokenize title\n",
    "# 5. Predict\n",
    "# 6. Calculate time taken\n",
    "\n",
    "model = TFBertForSequenceClassification.from_pretrained('tinybert_fine_tuned')\n",
    "tokenizer = BertTokenizer.from_pretrained('tinybert_fine_tuned')\n",
    "model.compile(metrics=['accuracy'])\n"
   ]
  },
  {
   "cell_type": "code",
   "execution_count": 95,
   "metadata": {},
   "outputs": [
    {
     "name": "stdout",
     "output_type": "stream",
     "text": [
      "1/1 [==============================] - 0s 169ms/step\n",
      "Time taken to predict: 0.19353485107421875\n",
      "Title:  How to bake a simple homemade minecraft server\n",
      "Prediction:  Entertainment\n"
     ]
    }
   ],
   "source": [
    "title = \"How to bake a simple homemade minecraft server\"\n",
    "\n",
    "start_time = time.time()\n",
    "title_encoding = tokenizer(title, truncation=True, padding=True, max_length=MAX_LEN)\n",
    "prediction = model.predict([title_encoding['input_ids'], title_encoding['attention_mask']])\n",
    "prediction = np.argmax(prediction[0], axis=1)[0]\n",
    "print(\"Time taken to predict:\", time.time() - start_time)\n",
    "print(\"Title: \", title)\n",
    "print(\"Prediction: \", [\"Education\", \"Entertainment\"][prediction])"
   ]
  },
  {
   "cell_type": "code",
   "execution_count": null,
   "metadata": {},
   "outputs": [],
   "source": []
  }
 ],
 "metadata": {
  "kernelspec": {
   "display_name": "youtube_classifier_extention",
   "language": "python",
   "name": "python3"
  },
  "language_info": {
   "codemirror_mode": {
    "name": "ipython",
    "version": 3
   },
   "file_extension": ".py",
   "mimetype": "text/x-python",
   "name": "python",
   "nbconvert_exporter": "python",
   "pygments_lexer": "ipython3",
   "version": "3.11.4"
  },
  "orig_nbformat": 4
 },
 "nbformat": 4,
 "nbformat_minor": 2
}
