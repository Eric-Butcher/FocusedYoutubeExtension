{
 "cells": [
  {
   "cell_type": "code",
   "execution_count": 1,
   "metadata": {},
   "outputs": [
    {
     "name": "stderr",
     "output_type": "stream",
     "text": [
      "/Users/purusoni/miniconda3/envs/youtube_classifier_extention/lib/python3.11/site-packages/tqdm/auto.py:21: TqdmWarning: IProgress not found. Please update jupyter and ipywidgets. See https://ipywidgets.readthedocs.io/en/stable/user_install.html\n",
      "  from .autonotebook import tqdm as notebook_tqdm\n"
     ]
    }
   ],
   "source": [
    "import tensorflow as tf\n",
    "from tensorflow.keras.utils import to_categorical\n",
    "from transformers import BertTokenizer, TFBertForSequenceClassification\n",
    "from sklearn.model_selection import train_test_split\n",
    "import pandas as pd\n",
    "import torch\n",
    "from pathlib import Path\n",
    "import time\n",
    "import numpy as np\n",
    "import matplotlib.pyplot as plt\n",
    "\n",
    "# Fix random seed for reproducibility\n",
    "np.random.seed(42)\n",
    "tf.random.set_seed(42)\n",
    "\n",
    "MAX_LEN = 128"
   ]
  },
  {
   "cell_type": "code",
   "execution_count": 2,
   "metadata": {},
   "outputs": [],
   "source": [
    "labeled_mapped_csv_path = Path.cwd() / \"labeled_mapped.csv\"\n",
    "\n",
    "labels_to_ids = {\n",
    "    \"Educational\": 0,\n",
    "    \"Entertainment\": 1,\n",
    "}\n",
    "\n",
    "num_labels = len(labels_to_ids)"
   ]
  },
  {
   "cell_type": "code",
   "execution_count": 3,
   "metadata": {},
   "outputs": [
    {
     "name": "stdout",
     "output_type": "stream",
     "text": [
      "Column names: ['label', 'title', 'path']\n",
      "Dataframe shape: (2736, 3)\n",
      "\n",
      "Elements per label before making them equal:\n",
      "label\n",
      "Entertainment    1825\n",
      "Educational       911\n",
      "Name: count, dtype: int64\n",
      "\n",
      "Elements per label after making them equal:\n",
      "label\n",
      "Entertainment    911\n",
      "Educational      911\n",
      "Name: count, dtype: int64\n",
      "\n",
      "Dataframe shape: (1822, 3)\n",
      "Dataframe head:\n",
      "           label                                              title   path\n",
      "0  Entertainment  SIDEMEN GUESS THE LINK OFFENSIVE EDITION by Mo...  1.jpg\n",
      "1  Entertainment  Our Most Demonic Experience  Zak Bagans Haunte...  2.jpg\n",
      "2  Entertainment  How SpaceX and Boeing will get Astronauts to t...  3.jpg\n",
      "3  Entertainment  'TIRED OF IT' Voters sound off after latest at...  4.jpg\n",
      "4    Educational  Can We Predict An Outbreak's Future - Modeling...  5.jpg\n"
     ]
    }
   ],
   "source": [
    "# Load data from CSV file\n",
    "df = pd.read_csv(labeled_mapped_csv_path)\n",
    "\n",
    "# Read header for column names\n",
    "column_names = df.columns.tolist()\n",
    "print(\"Column names:\", column_names)\n",
    "print(\"Dataframe shape:\", df.shape)\n",
    "\n",
    "# Print number of elements for each label\n",
    "print()\n",
    "print(\"Elements per label before making them equal:\")\n",
    "print(df['label'].value_counts())\n",
    "\n",
    "# Only retain equal number of elements for each label\n",
    "least_number_of_elements = df['label'].value_counts().min()\n",
    "df = df.groupby('label').head(least_number_of_elements).reset_index(drop=True)\n",
    "\n",
    "# Print number of elements for each label\n",
    "print()\n",
    "print(\"Elements per label after making them equal:\")\n",
    "print(df['label'].value_counts())\n",
    "\n",
    "print()\n",
    "print(\"Dataframe shape:\", df.shape)\n",
    "print(\"Dataframe head:\")\n",
    "print(df.head())\n"
   ]
  },
  {
   "cell_type": "code",
   "execution_count": 4,
   "metadata": {},
   "outputs": [
    {
     "name": "stdout",
     "output_type": "stream",
     "text": [
      "Max length of a title in the Dataframe: 135\n"
     ]
    }
   ],
   "source": [
    "print(\"Max length of a title in the Dataframe:\", df['title'].map(len).max())"
   ]
  },
  {
   "cell_type": "code",
   "execution_count": 5,
   "metadata": {},
   "outputs": [
    {
     "name": "stdout",
     "output_type": "stream",
     "text": [
      "['Entertainment', 'Entertainment', 'Entertainment', 'Entertainment', 'Educational']\n",
      "[1 1 1 1 0]\n",
      "['SIDEMEN GUESS THE LINK OFFENSIVE EDITION by MoreSidemen', 'Our Most Demonic Experience  Zak Bagans Haunted Museum by Sam and Colby', 'How SpaceX and Boeing will get Astronauts to the ISS by EverydayAstronaut', \"'TIRED OF IT' Voters sound off after latest attacks on Trump by FoxNews\", \"Can We Predict An Outbreak's Future - Modeling Crash Course Outbreak Science #9 by crashcourse\"]\n",
      "Lenght of dataset:  1822\n"
     ]
    }
   ],
   "source": [
    "# Split data into labels and titles\n",
    "all_labels = df[\"label\"].tolist()\n",
    "all_titles = df[\"title\"].tolist()\n",
    "\n",
    "# Print first 5 all_labels and all_titles\n",
    "print(all_labels[:5])\n",
    "\n",
    "# Convert all_labels to integers\n",
    "all_labels = np.vectorize(labels_to_ids.get)(all_labels)\n",
    "print(all_labels[:5])\n",
    "\n",
    "# all_labels = to_categorical(all_labels)\n",
    "# print(all_labels[:10])\n",
    "\n",
    "print(all_titles[:5])\n",
    "print(\"Lenght of dataset: \", len(all_labels))"
   ]
  },
  {
   "cell_type": "code",
   "execution_count": 6,
   "metadata": {},
   "outputs": [
    {
     "name": "stderr",
     "output_type": "stream",
     "text": [
      "2023-08-13 22:33:45.388513: I metal_plugin/src/device/metal_device.cc:1154] Metal device set to: Apple M1 Max\n",
      "2023-08-13 22:33:45.388534: I metal_plugin/src/device/metal_device.cc:296] systemMemory: 32.00 GB\n",
      "2023-08-13 22:33:45.388540: I metal_plugin/src/device/metal_device.cc:313] maxCacheSize: 10.67 GB\n",
      "2023-08-13 22:33:45.388860: I tensorflow/core/common_runtime/pluggable_device/pluggable_device_factory.cc:303] Could not identify NUMA node of platform GPU ID 0, defaulting to 0. Your kernel may not have been built with NUMA support.\n",
      "2023-08-13 22:33:45.389148: I tensorflow/core/common_runtime/pluggable_device/pluggable_device_factory.cc:269] Created TensorFlow device (/job:localhost/replica:0/task:0/device:GPU:0 with 0 MB memory) -> physical PluggableDevice (device: 0, name: METAL, pci bus id: <undefined>)\n",
      "Some weights of the PyTorch model were not used when initializing the TF 2.0 model TFBertForSequenceClassification: ['fit_denses.3.weight', 'fit_denses.0.weight', 'fit_denses.2.weight', 'fit_denses.4.weight', 'fit_denses.4.bias', 'fit_denses.0.bias', 'fit_denses.3.bias', 'fit_denses.1.bias', 'fit_denses.2.bias', 'fit_denses.1.weight']\n",
      "- This IS expected if you are initializing TFBertForSequenceClassification from a PyTorch model trained on another task or with another architecture (e.g. initializing a TFBertForSequenceClassification model from a BertForPreTraining model).\n",
      "- This IS NOT expected if you are initializing TFBertForSequenceClassification from a PyTorch model that you expect to be exactly identical (e.g. initializing a TFBertForSequenceClassification model from a BertForSequenceClassification model).\n",
      "Some weights or buffers of the TF 2.0 model TFBertForSequenceClassification were not initialized from the PyTorch model and are newly initialized: ['classifier.weight', 'classifier.bias']\n",
      "You should probably TRAIN this model on a down-stream task to be able to use it for predictions and inference.\n"
     ]
    },
    {
     "name": "stdout",
     "output_type": "stream",
     "text": [
      "Model: \"tf_bert_for_sequence_classification\"\n",
      "_________________________________________________________________\n",
      " Layer (type)                Output Shape              Param #   \n",
      "=================================================================\n",
      " bert (TFBertMainLayer)      multiple                  14350248  \n",
      "                                                                 \n",
      " dropout_13 (Dropout)        multiple                  0         \n",
      "                                                                 \n",
      " classifier (Dense)          multiple                  626       \n",
      "                                                                 \n",
      "=================================================================\n",
      "Total params: 14350874 (54.74 MB)\n",
      "Trainable params: 14350874 (54.74 MB)\n",
      "Non-trainable params: 0 (0.00 Byte)\n",
      "_________________________________________________________________\n"
     ]
    }
   ],
   "source": [
    "tokenizer = BertTokenizer.from_pretrained('huawei-noah/TinyBERT_General_4L_312D')\n",
    "tiny_bert_model = TFBertForSequenceClassification.from_pretrained('huawei-noah/TinyBERT_General_4L_312D', from_pt = True, num_labels=num_labels)\n",
    "tiny_bert_model.summary()"
   ]
  },
  {
   "cell_type": "code",
   "execution_count": 7,
   "metadata": {},
   "outputs": [],
   "source": [
    "sentences_train_val, sentences_test, labels_train_val, labels_test = train_test_split(all_titles, all_labels, test_size=0.2, random_state=42)"
   ]
  },
  {
   "cell_type": "code",
   "execution_count": 8,
   "metadata": {},
   "outputs": [
    {
     "name": "stdout",
     "output_type": "stream",
     "text": [
      "dict_keys(['input_ids', 'token_type_ids', 'attention_mask'])\n",
      "[101, 4748, 14945, 4335, 2189, 5702, 2189, 2005, 2488, 6693, 1998, 3579, 1010, 2817, 2189, 2011, 2665, 5596, 5453, 1011, 19613, 2189, 102, 0, 0, 0, 0, 0, 0, 0, 0, 0, 0, 0, 0, 0, 0, 0, 0, 0, 0, 0, 0, 0, 0, 0, 0, 0, 0, 0, 0, 0, 0, 0, 0, 0, 0, 0, 0, 0, 0, 0, 0, 0, 0, 0, 0, 0, 0, 0, 0, 0, 0, 0, 0, 0, 0]\n",
      "[1, 1, 1, 1, 1, 1, 1, 1, 1, 1, 1, 1, 1, 1, 1, 1, 1, 1, 1, 1, 1, 1, 1, 0, 0, 0, 0, 0, 0, 0, 0, 0, 0, 0, 0, 0, 0, 0, 0, 0, 0, 0, 0, 0, 0, 0, 0, 0, 0, 0, 0, 0, 0, 0, 0, 0, 0, 0, 0, 0, 0, 0, 0, 0, 0, 0, 0, 0, 0, 0, 0, 0, 0, 0, 0, 0, 0]\n"
     ]
    }
   ],
   "source": [
    "train_val_encodings = tokenizer(sentences_train_val, truncation=True, padding=True, max_length=MAX_LEN)\n",
    "test_encodings = tokenizer(sentences_test, truncation=True, padding=True, max_length=MAX_LEN)\n",
    "\n",
    "print(train_val_encodings.keys())\n",
    "print(train_val_encodings['input_ids'][0])\n",
    "print(train_val_encodings['attention_mask'][0])\n",
    "\n",
    "train_val_dataset = tf.data.Dataset.from_tensor_slices((\n",
    "    dict(train_val_encodings),\n",
    "    labels_train_val\n",
    "))\n",
    "\n",
    "test_dataset = tf.data.Dataset.from_tensor_slices((\n",
    "    dict(test_encodings),\n",
    "    labels_test\n",
    "))"
   ]
  },
  {
   "cell_type": "code",
   "execution_count": 9,
   "metadata": {},
   "outputs": [
    {
     "name": "stdout",
     "output_type": "stream",
     "text": [
      "Train dataset length:  1093\n",
      "Validation dataset length:  364\n",
      "Test dataset length:  365\n"
     ]
    }
   ],
   "source": [
    "valid_size = int(0.25 * len(train_val_dataset)) \n",
    "\n",
    "val_dataset = train_val_dataset.take(valid_size) \n",
    "train_dataset = train_val_dataset.skip(valid_size) \n",
    "\n",
    "print(\"Train dataset length: \", len(list(train_dataset)))\n",
    "print(\"Validation dataset length: \", len(list(val_dataset)))\n",
    "print(\"Test dataset length: \", len(list(test_dataset)))"
   ]
  },
  {
   "cell_type": "code",
   "execution_count": 15,
   "metadata": {},
   "outputs": [
    {
     "name": "stderr",
     "output_type": "stream",
     "text": [
      "Some weights of the PyTorch model were not used when initializing the TF 2.0 model TFBertForSequenceClassification: ['fit_denses.3.weight', 'fit_denses.0.weight', 'fit_denses.2.weight', 'fit_denses.4.weight', 'fit_denses.4.bias', 'fit_denses.0.bias', 'fit_denses.3.bias', 'fit_denses.1.bias', 'fit_denses.2.bias', 'fit_denses.1.weight']\n",
      "- This IS expected if you are initializing TFBertForSequenceClassification from a PyTorch model trained on another task or with another architecture (e.g. initializing a TFBertForSequenceClassification model from a BertForPreTraining model).\n",
      "- This IS NOT expected if you are initializing TFBertForSequenceClassification from a PyTorch model that you expect to be exactly identical (e.g. initializing a TFBertForSequenceClassification model from a BertForSequenceClassification model).\n",
      "Some weights or buffers of the TF 2.0 model TFBertForSequenceClassification were not initialized from the PyTorch model and are newly initialized: ['classifier.weight', 'classifier.bias']\n",
      "You should probably TRAIN this model on a down-stream task to be able to use it for predictions and inference.\n",
      "WARNING:absl:At this time, the v2.11+ optimizer `tf.keras.optimizers.Adam` runs slowly on M1/M2 Macs, please use the legacy Keras optimizer instead, located at `tf.keras.optimizers.legacy.Adam`.\n",
      "WARNING:absl:There is a known slowdown when using v2.11+ Keras optimizers on M1/M2 Macs. Falling back to the legacy Keras optimizer, i.e., `tf.keras.optimizers.legacy.Adam`.\n"
     ]
    },
    {
     "name": "stdout",
     "output_type": "stream",
     "text": [
      "Epoch 1/200\n"
     ]
    },
    {
     "name": "stderr",
     "output_type": "stream",
     "text": [
      "2023-08-13 22:39:06.331011: I tensorflow/core/grappler/optimizers/custom_graph_optimizer_registry.cc:114] Plugin optimizer for device_type GPU is enabled.\n"
     ]
    },
    {
     "name": "stdout",
     "output_type": "stream",
     "text": [
      "274/274 [==============================] - ETA: 0s - loss: 0.6638 - accuracy: 0.6487"
     ]
    },
    {
     "name": "stderr",
     "output_type": "stream",
     "text": [
      "2023-08-13 22:39:37.396869: I tensorflow/core/grappler/optimizers/custom_graph_optimizer_registry.cc:114] Plugin optimizer for device_type GPU is enabled.\n"
     ]
    },
    {
     "name": "stdout",
     "output_type": "stream",
     "text": [
      "274/274 [==============================] - 39s 124ms/step - loss: 0.6638 - accuracy: 0.6487 - val_loss: 0.5627 - val_accuracy: 0.8187\n",
      "Epoch 2/200\n",
      "274/274 [==============================] - 25s 91ms/step - loss: 0.4912 - accuracy: 0.8143 - val_loss: 0.4058 - val_accuracy: 0.8516\n",
      "Epoch 3/200\n",
      "274/274 [==============================] - 25s 90ms/step - loss: 0.3645 - accuracy: 0.8801 - val_loss: 0.3690 - val_accuracy: 0.8654\n",
      "Epoch 4/200\n",
      "274/274 [==============================] - 25s 91ms/step - loss: 0.2949 - accuracy: 0.9094 - val_loss: 0.3480 - val_accuracy: 0.8654\n",
      "Epoch 5/200\n",
      "274/274 [==============================] - 25s 93ms/step - loss: 0.2438 - accuracy: 0.9231 - val_loss: 0.3570 - val_accuracy: 0.8599\n",
      "Epoch 6/200\n",
      "274/274 [==============================] - 25s 90ms/step - loss: 0.1959 - accuracy: 0.9433 - val_loss: 0.3680 - val_accuracy: 0.8681\n",
      "Epoch 7/200\n",
      "274/274 [==============================] - 25s 90ms/step - loss: 0.1557 - accuracy: 0.9570 - val_loss: 0.3558 - val_accuracy: 0.8764\n",
      "Epoch 8/200\n",
      "274/274 [==============================] - ETA: 0s - loss: 0.1176 - accuracy: 0.9689Restoring model weights from the end of the best epoch: 4.\n",
      "274/274 [==============================] - 25s 90ms/step - loss: 0.1176 - accuracy: 0.9689 - val_loss: 0.4040 - val_accuracy: 0.8571\n",
      "Epoch 8: early stopping\n",
      "INFO:tensorflow:Assets written to: tinybert_fine_tuned/assets\n"
     ]
    },
    {
     "name": "stderr",
     "output_type": "stream",
     "text": [
      "INFO:tensorflow:Assets written to: tinybert_fine_tuned/assets\n"
     ]
    },
    {
     "data": {
      "text/plain": [
       "('tinybert_fine_tuned/tokenizer_config.json',\n",
       " 'tinybert_fine_tuned/special_tokens_map.json',\n",
       " 'tinybert_fine_tuned/vocab.txt',\n",
       " 'tinybert_fine_tuned/added_tokens.json')"
      ]
     },
     "execution_count": 15,
     "metadata": {},
     "output_type": "execute_result"
    }
   ],
   "source": [
    "model = TFBertForSequenceClassification.from_pretrained('huawei-noah/TinyBERT_General_4L_312D', from_pt = True, num_labels=2)\n",
    "\n",
    "optimizer = tf.keras.optimizers.Adam(learning_rate=5e-6)\n",
    "loss = tf.keras.losses.SparseCategoricalCrossentropy(from_logits=True)\n",
    "\n",
    "early_stopping = tf.keras.callbacks.EarlyStopping(\n",
    "    monitor='val_loss', \n",
    "    patience=4,\n",
    "    verbose=1,\n",
    "    mode='min',\n",
    "    restore_best_weights=True,\n",
    ")\n",
    "\n",
    "model.compile(optimizer=optimizer, loss=loss, metrics=['accuracy'])\n",
    "\n",
    "model.fit(\n",
    "    train_dataset.batch(4), \n",
    "    epochs=200, \n",
    "    batch_size=4, \n",
    "    validation_data=val_dataset.batch(4), \n",
    "    callbacks=[early_stopping]\n",
    ")\n",
    "\n",
    "model.save('tinybert_fine_tuned')\n",
    "tokenizer.save_pretrained('tinybert_fine_tuned')\n"
   ]
  },
  {
   "cell_type": "code",
   "execution_count": 18,
   "metadata": {},
   "outputs": [
    {
     "name": "stdout",
     "output_type": "stream",
     "text": [
      "Model: \"tf_bert_for_sequence_classification_2\"\n",
      "_________________________________________________________________\n",
      " Layer (type)                Output Shape              Param #   \n",
      "=================================================================\n",
      " bert (TFBertMainLayer)      multiple                  14350248  \n",
      "                                                                 \n",
      " dropout_41 (Dropout)        multiple                  0         \n",
      "                                                                 \n",
      " classifier (Dense)          multiple                  626       \n",
      "                                                                 \n",
      "=================================================================\n",
      "Total params: 14350874 (54.74 MB)\n",
      "Trainable params: 14350874 (54.74 MB)\n",
      "Non-trainable params: 0 (0.00 Byte)\n",
      "_________________________________________________________________\n"
     ]
    }
   ],
   "source": [
    "model.summary()"
   ]
  },
  {
   "cell_type": "code",
   "execution_count": 19,
   "metadata": {},
   "outputs": [
    {
     "data": {
      "image/png": "[encoded data removed]",
      "text/plain": [
       "<Figure size 1600x500 with 2 Axes>"
      ]
     },
     "metadata": {},
     "output_type": "display_data"
    }
   ],
   "source": [
    "# Visualize the training process\n",
    "history = model.history\n",
    "\n",
    "figure, axis = plt.subplots(1, 2, figsize=(16, 5))\n",
    "axis[0].plot(history.history['loss'], label='Training Loss')\n",
    "axis[0].plot(history.history['val_loss'], label='Validation Loss')\n",
    "axis[0].set_title('Training and Validation Loss')\n",
    "axis[0].set_xlabel('Epochs')\n",
    "axis[0].set_ylabel('Loss')\n",
    "axis[0].legend()\n",
    "\n",
    "axis[1].plot(history.history['accuracy'], label='Training Accuracy')\n",
    "axis[1].plot(history.history['val_accuracy'], label='Validation Accuracy')\n",
    "axis[1].set_title('Training and Validation Accuracy')\n",
    "axis[1].set_xlabel('Epochs')\n",
    "axis[1].set_ylabel('Accuracy')\n",
    "axis[1].legend()\n",
    "\n",
    "plt.show()"
   ]
  },
  {
   "cell_type": "code",
   "execution_count": 20,
   "metadata": {},
   "outputs": [
    {
     "name": "stdout",
     "output_type": "stream",
     "text": [
      "Evaluate on test data\n"
     ]
    },
    {
     "ename": "ValueError",
     "evalue": "in user code:\n\n    File \"/Users/purusoni/miniconda3/envs/youtube_classifier_extention/lib/python3.11/site-packages/keras/src/engine/training.py\", line 1972, in test_function  *\n        return step_function(self, iterator)\n    File \"/Users/purusoni/miniconda3/envs/youtube_classifier_extention/lib/python3.11/site-packages/keras/src/engine/training.py\", line 1956, in step_function  **\n        outputs = model.distribute_strategy.run(run_step, args=(data,))\n    File \"/Users/purusoni/miniconda3/envs/youtube_classifier_extention/lib/python3.11/site-packages/keras/src/engine/training.py\", line 1944, in run_step  **\n        outputs = model.test_step(data)\n    File \"/Users/purusoni/miniconda3/envs/youtube_classifier_extention/lib/python3.11/site-packages/keras/src/engine/training.py\", line 1850, in test_step\n        y_pred = self(x, training=False)\n    File \"/Users/purusoni/miniconda3/envs/youtube_classifier_extention/lib/python3.11/site-packages/keras/src/utils/traceback_utils.py\", line 70, in error_handler\n        raise e.with_traceback(filtered_tb) from None\n\n    ValueError: Exception encountered when calling layer 'tf_bert_for_sequence_classification_2' (type TFBertForSequenceClassification).\n    \n    Could not find matching concrete function to call loaded from the SavedModel. Got:\n      Positional arguments (11 total):\n        * {'attention_mask': <tf.Tensor 'input_ids_2:0' shape=(None, 36) dtype=int32>,\n     'input_ids': <tf.Tensor 'input_ids:0' shape=(None, 36) dtype=int32>,\n     'token_type_ids': <tf.Tensor 'input_ids_1:0' shape=(None, 36) dtype=int32>}\n        * None\n        * None\n        * None\n        * None\n        * None\n        * None\n        * None\n        * None\n        * None\n        * False\n      Keyword arguments: {}\n    \n     Expected these arguments to match one of the following 2 option(s):\n    \n    Option 1:\n      Positional arguments (11 total):\n        * {'attention_mask': TensorSpec(shape=(None, 2), dtype=tf.int32, name='attention_mask'),\n     'input_ids': TensorSpec(shape=(None, 2), dtype=tf.int32, name='input_ids_input_ids'),\n     'token_type_ids': TensorSpec(shape=(None, 2), dtype=tf.int32, name='token_type_ids')}\n        * None\n        * None\n        * None\n        * None\n        * None\n        * None\n        * None\n        * None\n        * None\n        * True\n      Keyword arguments: {}\n    \n    Option 2:\n      Positional arguments (11 total):\n        * {'attention_mask': TensorSpec(shape=(None, 2), dtype=tf.int32, name='attention_mask'),\n     'input_ids': TensorSpec(shape=(None, 2), dtype=tf.int32, name='input_ids_input_ids'),\n     'token_type_ids': TensorSpec(shape=(None, 2), dtype=tf.int32, name='token_type_ids')}\n        * None\n        * None\n        * None\n        * None\n        * None\n        * None\n        * None\n        * None\n        * None\n        * False\n      Keyword arguments: {}\n    \n    Call arguments received by layer 'tf_bert_for_sequence_classification_2' (type TFBertForSequenceClassification):\n      • attention_mask={'input_ids': 'tf.Tensor(shape=(None, 36), dtype=int32)', 'token_type_ids': 'tf.Tensor(shape=(None, 36), dtype=int32)', 'attention_mask': 'tf.Tensor(shape=(None, 36), dtype=int32)'}\n      • token_type_ids=None\n      • position_ids=None\n      • head_mask=None\n      • inputs_embeds=None\n      • output_attentions=None\n      • output_hidden_states=None\n      • return_dict=None\n      • labels=None\n      • training=False\n",
     "output_type": "error",
     "traceback": [
      "\u001b[0;31m---------------------------------------------------------------------------\u001b[0m",
      "\u001b[0;31mValueError\u001b[0m                                Traceback (most recent call last)",
      "Cell \u001b[0;32mIn[20], line 7\u001b[0m\n\u001b[1;32m      4\u001b[0m model\u001b[39m.\u001b[39mcompile(metrics\u001b[39m=\u001b[39m[\u001b[39m'\u001b[39m\u001b[39maccuracy\u001b[39m\u001b[39m'\u001b[39m])\n\u001b[1;32m      6\u001b[0m \u001b[39mprint\u001b[39m(\u001b[39m'\u001b[39m\u001b[39mEvaluate on test data\u001b[39m\u001b[39m'\u001b[39m)\n\u001b[0;32m----> 7\u001b[0m results \u001b[39m=\u001b[39m model\u001b[39m.\u001b[39;49mevaluate(test_dataset\u001b[39m.\u001b[39;49mbatch(\u001b[39m2\u001b[39;49m), batch_size\u001b[39m=\u001b[39;49m\u001b[39m2\u001b[39;49m)\n",
      "File \u001b[0;32m~/miniconda3/envs/youtube_classifier_extention/lib/python3.11/site-packages/keras/src/utils/traceback_utils.py:70\u001b[0m, in \u001b[0;36mfilter_traceback.<locals>.error_handler\u001b[0;34m(*args, **kwargs)\u001b[0m\n\u001b[1;32m     67\u001b[0m     filtered_tb \u001b[39m=\u001b[39m _process_traceback_frames(e\u001b[39m.\u001b[39m__traceback__)\n\u001b[1;32m     68\u001b[0m     \u001b[39m# To get the full stack trace, call:\u001b[39;00m\n\u001b[1;32m     69\u001b[0m     \u001b[39m# `tf.debugging.disable_traceback_filtering()`\u001b[39;00m\n\u001b[0;32m---> 70\u001b[0m     \u001b[39mraise\u001b[39;00m e\u001b[39m.\u001b[39mwith_traceback(filtered_tb) \u001b[39mfrom\u001b[39;00m \u001b[39mNone\u001b[39;00m\n\u001b[1;32m     71\u001b[0m \u001b[39mfinally\u001b[39;00m:\n\u001b[1;32m     72\u001b[0m     \u001b[39mdel\u001b[39;00m filtered_tb\n",
      "File \u001b[0;32m/var/folders/l4/k_dwtzj17r56m43xff003vl40000gn/T/__autograph_generated_filectk063cp.py:15\u001b[0m, in \u001b[0;36mouter_factory.<locals>.inner_factory.<locals>.tf__test_function\u001b[0;34m(iterator)\u001b[0m\n\u001b[1;32m     13\u001b[0m \u001b[39mtry\u001b[39;00m:\n\u001b[1;32m     14\u001b[0m     do_return \u001b[39m=\u001b[39m \u001b[39mTrue\u001b[39;00m\n\u001b[0;32m---> 15\u001b[0m     retval_ \u001b[39m=\u001b[39m ag__\u001b[39m.\u001b[39mconverted_call(ag__\u001b[39m.\u001b[39mld(step_function), (ag__\u001b[39m.\u001b[39mld(\u001b[39mself\u001b[39m), ag__\u001b[39m.\u001b[39mld(iterator)), \u001b[39mNone\u001b[39;00m, fscope)\n\u001b[1;32m     16\u001b[0m \u001b[39mexcept\u001b[39;00m:\n\u001b[1;32m     17\u001b[0m     do_return \u001b[39m=\u001b[39m \u001b[39mFalse\u001b[39;00m\n",
      "\u001b[0;31mValueError\u001b[0m: in user code:\n\n    File \"/Users/purusoni/miniconda3/envs/youtube_classifier_extention/lib/python3.11/site-packages/keras/src/engine/training.py\", line 1972, in test_function  *\n        return step_function(self, iterator)\n    File \"/Users/purusoni/miniconda3/envs/youtube_classifier_extention/lib/python3.11/site-packages/keras/src/engine/training.py\", line 1956, in step_function  **\n        outputs = model.distribute_strategy.run(run_step, args=(data,))\n    File \"/Users/purusoni/miniconda3/envs/youtube_classifier_extention/lib/python3.11/site-packages/keras/src/engine/training.py\", line 1944, in run_step  **\n        outputs = model.test_step(data)\n    File \"/Users/purusoni/miniconda3/envs/youtube_classifier_extention/lib/python3.11/site-packages/keras/src/engine/training.py\", line 1850, in test_step\n        y_pred = self(x, training=False)\n    File \"/Users/purusoni/miniconda3/envs/youtube_classifier_extention/lib/python3.11/site-packages/keras/src/utils/traceback_utils.py\", line 70, in error_handler\n        raise e.with_traceback(filtered_tb) from None\n\n    ValueError: Exception encountered when calling layer 'tf_bert_for_sequence_classification_2' (type TFBertForSequenceClassification).\n    \n    Could not find matching concrete function to call loaded from the SavedModel. Got:\n      Positional arguments (11 total):\n        * {'attention_mask': <tf.Tensor 'input_ids_2:0' shape=(None, 36) dtype=int32>,\n     'input_ids': <tf.Tensor 'input_ids:0' shape=(None, 36) dtype=int32>,\n     'token_type_ids': <tf.Tensor 'input_ids_1:0' shape=(None, 36) dtype=int32>}\n        * None\n        * None\n        * None\n        * None\n        * None\n        * None\n        * None\n        * None\n        * None\n        * False\n      Keyword arguments: {}\n    \n     Expected these arguments to match one of the following 2 option(s):\n    \n    Option 1:\n      Positional arguments (11 total):\n        * {'attention_mask': TensorSpec(shape=(None, 2), dtype=tf.int32, name='attention_mask'),\n     'input_ids': TensorSpec(shape=(None, 2), dtype=tf.int32, name='input_ids_input_ids'),\n     'token_type_ids': TensorSpec(shape=(None, 2), dtype=tf.int32, name='token_type_ids')}\n        * None\n        * None\n        * None\n        * None\n        * None\n        * None\n        * None\n        * None\n        * None\n        * True\n      Keyword arguments: {}\n    \n    Option 2:\n      Positional arguments (11 total):\n        * {'attention_mask': TensorSpec(shape=(None, 2), dtype=tf.int32, name='attention_mask'),\n     'input_ids': TensorSpec(shape=(None, 2), dtype=tf.int32, name='input_ids_input_ids'),\n     'token_type_ids': TensorSpec(shape=(None, 2), dtype=tf.int32, name='token_type_ids')}\n        * None\n        * None\n        * None\n        * None\n        * None\n        * None\n        * None\n        * None\n        * None\n        * False\n      Keyword arguments: {}\n    \n    Call arguments received by layer 'tf_bert_for_sequence_classification_2' (type TFBertForSequenceClassification):\n      • attention_mask={'input_ids': 'tf.Tensor(shape=(None, 36), dtype=int32)', 'token_type_ids': 'tf.Tensor(shape=(None, 36), dtype=int32)', 'attention_mask': 'tf.Tensor(shape=(None, 36), dtype=int32)'}\n      • token_type_ids=None\n      • position_ids=None\n      • head_mask=None\n      • inputs_embeds=None\n      • output_attentions=None\n      • output_hidden_states=None\n      • return_dict=None\n      • labels=None\n      • training=False\n"
     ]
    }
   ],
   "source": [
    "# Test the model\n",
    "model = tf.keras.models.load_model('tinybert_fine_tuned')\n",
    "tokenizer = BertTokenizer.from_pretrained('tinybert_fine_tuned')\n",
    "model.compile(metrics=['accuracy'])\n",
    "\n",
    "print('Evaluate on test data')\n",
    "results = model.evaluate(test_dataset.batch(2), batch_size=2)"
   ]
  },
  {
   "cell_type": "code",
   "execution_count": 2,
   "metadata": {},
   "outputs": [
    {
     "name": "stderr",
     "output_type": "stream",
     "text": [
      "2023-08-13 13:09:05.406589: I metal_plugin/src/device/metal_device.cc:1154] Metal device set to: Apple M1 Max\n",
      "2023-08-13 13:09:05.406618: I metal_plugin/src/device/metal_device.cc:296] systemMemory: 32.00 GB\n",
      "2023-08-13 13:09:05.406626: I metal_plugin/src/device/metal_device.cc:313] maxCacheSize: 10.67 GB\n",
      "2023-08-13 13:09:05.406669: I tensorflow/core/common_runtime/pluggable_device/pluggable_device_factory.cc:303] Could not identify NUMA node of platform GPU ID 0, defaulting to 0. Your kernel may not have been built with NUMA support.\n",
      "2023-08-13 13:09:05.406690: I tensorflow/core/common_runtime/pluggable_device/pluggable_device_factory.cc:269] Created TensorFlow device (/job:localhost/replica:0/task:0/device:GPU:0 with 0 MB memory) -> physical PluggableDevice (device: 0, name: METAL, pci bus id: <undefined>)\n",
      "Some layers from the model checkpoint at tinybert_fine_tuned were not used when initializing TFBertForSequenceClassification: ['dropout_27']\n",
      "- This IS expected if you are initializing TFBertForSequenceClassification from the checkpoint of a model trained on another task or with another architecture (e.g. initializing a BertForSequenceClassification model from a BertForPreTraining model).\n",
      "- This IS NOT expected if you are initializing TFBertForSequenceClassification from the checkpoint of a model that you expect to be exactly identical (initializing a BertForSequenceClassification model from a BertForSequenceClassification model).\n",
      "All the layers of TFBertForSequenceClassification were initialized from the model checkpoint at tinybert_fine_tuned.\n",
      "If your task is similar to the task the model of the checkpoint was trained on, you can already use TFBertForSequenceClassification for predictions without further training.\n",
      "2023-08-13 13:09:07.611515: I tensorflow/core/grappler/optimizers/custom_graph_optimizer_registry.cc:114] Plugin optimizer for device_type GPU is enabled.\n"
     ]
    },
    {
     "name": "stdout",
     "output_type": "stream",
     "text": [
      "1/1 [==============================] - 3s 3s/step\n",
      "Time taken to predict: 2.673151969909668\n",
      "Title:  How to make a simple homemade minecraft server\n",
      "Prediction:  Education\n"
     ]
    }
   ],
   "source": [
    "# Calculate time taken to process one title\n",
    "# 1. Load model\n",
    "# 2. Load tokenizer\n",
    "# 3. Load title\n",
    "# 4. Tokenize title\n",
    "# 5. Predict\n",
    "# 6. Calculate time taken\n",
    "\n",
    "model = TFBertForSequenceClassification.from_pretrained('tinybert_fine_tuned')\n",
    "tokenizer = BertTokenizer.from_pretrained('tinybert_fine_tuned')\n",
    "model.compile(metrics=['accuracy'])\n",
    "\n",
    "title = \"How to make a simple homemade minecraft server\"\n",
    "\n",
    "start_time = time.time()\n",
    "title_encoding = tokenizer(title, truncation=True, padding=True, max_length=MAX_LEN)\n",
    "prediction = model.predict([title_encoding['input_ids'], title_encoding['attention_mask']])\n",
    "prediction = np.argmax(prediction[0], axis=1)[0]\n",
    "print(\"Time taken to predict:\", time.time() - start_time)\n",
    "print(\"Title: \", title)\n",
    "print(\"Prediction: \", [\"Education\", \"Entertainment\"][prediction])"
   ]
  },
  {
   "cell_type": "code",
   "execution_count": null,
   "metadata": {},
   "outputs": [],
   "source": []
  }
 ],
 "metadata": {
  "kernelspec": {
   "display_name": "youtube_classifier_extention",
   "language": "python",
   "name": "python3"
  },
  "language_info": {
   "codemirror_mode": {
    "name": "ipython",
    "version": 3
   },
   "file_extension": ".py",
   "mimetype": "text/x-python",
   "name": "python",
   "nbconvert_exporter": "python",
   "pygments_lexer": "ipython3",
   "version": "3.11.4"
  },
  "orig_nbformat": 4
 },
 "nbformat": 4,
 "nbformat_minor": 2
}
