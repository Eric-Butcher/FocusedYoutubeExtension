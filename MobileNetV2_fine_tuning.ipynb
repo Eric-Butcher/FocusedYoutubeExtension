{
 "cells": [
  {
   "cell_type": "code",
   "execution_count": 2,
   "metadata": {},
   "outputs": [
    {
     "name": "stderr",
     "output_type": "stream",
     "text": [
      "/Users/purusoni/miniconda3/envs/youtube_classifier_extention/lib/python3.11/site-packages/tqdm/auto.py:21: TqdmWarning: IProgress not found. Please update jupyter and ipywidgets. See https://ipywidgets.readthedocs.io/en/stable/user_install.html\n",
      "  from .autonotebook import tqdm as notebook_tqdm\n"
     ]
    }
   ],
   "source": [
    "import tensorflow as tf\n",
    "from tensorflow.keras.utils import to_categorical\n",
    "from tensorflow.keras.applications import MobileNetV2\n",
    "from transformers import BertTokenizer, TFBertForSequenceClassification\n",
    "from sklearn.model_selection import train_test_split\n",
    "import pandas as pd\n",
    "import torch\n",
    "from pathlib import Path\n",
    "import numpy as np\n",
    "import matplotlib.pyplot as plt\n",
    "from tensorflow.keras.preprocessing.image import ImageDataGenerator\n",
    "\n",
    "\n",
    "# Fix random seed for reproducibility\n",
    "np.random.seed(42)\n",
    "tf.random.set_seed(42)"
   ]
  },
  {
   "cell_type": "code",
   "execution_count": 3,
   "metadata": {},
   "outputs": [],
   "source": [
    "labeled_mapped_csv_path = Path.cwd() / \"labeled_mapped.csv\"\n",
    "\n",
    "labels_to_ids = {\n",
    "    \"Educational\": 0,\n",
    "    \"Entertainment\": 1,\n",
    "}\n",
    "\n",
    "num_labels = len(labels_to_ids)"
   ]
  },
  {
   "cell_type": "code",
   "execution_count": 4,
   "metadata": {},
   "outputs": [
    {
     "name": "stdout",
     "output_type": "stream",
     "text": [
      "Column names: ['label', 'title', 'path']\n",
      "Dataframe shape: (2736, 3)\n",
      "\n",
      "Elements per label before making them equal:\n",
      "label\n",
      "Entertainment    1825\n",
      "Educational       911\n",
      "Name: count, dtype: int64\n",
      "\n",
      "Elements per label after making them equal:\n",
      "label\n",
      "Entertainment    911\n",
      "Educational      911\n",
      "Name: count, dtype: int64\n"
     ]
    }
   ],
   "source": [
    "# Load data from CSV file\n",
    "df = pd.read_csv(labeled_mapped_csv_path)\n",
    "\n",
    "# Read header for column names\n",
    "column_names = df.columns.tolist()\n",
    "print(\"Column names:\", column_names)\n",
    "print(\"Dataframe shape:\", df.shape)\n",
    "\n",
    "# Print number of elements for each label\n",
    "print()\n",
    "print(\"Elements per label before making them equal:\")\n",
    "print(df['label'].value_counts())\n",
    "\n",
    "# Only retain equal number of elements for each label\n",
    "least_number_of_elements = df['label'].value_counts().min()\n",
    "df = df.groupby('label').head(least_number_of_elements).reset_index(drop=True)\n",
    "\n",
    "# Drop title\n",
    "df = df.drop(['title'], axis=1)\n",
    "\n",
    "# Print number of elements for each label\n",
    "print()\n",
    "print(\"Elements per label after making them equal:\")\n",
    "print(df['label'].value_counts())"
   ]
  },
  {
   "cell_type": "code",
   "execution_count": 5,
   "metadata": {},
   "outputs": [
    {
     "name": "stdout",
     "output_type": "stream",
     "text": [
      "\n",
      "Dataframe shape: (1822, 2)\n",
      "Dataframe head:\n",
      "           label   path\n",
      "0  Entertainment  1.jpg\n",
      "1  Entertainment  2.jpg\n",
      "2  Entertainment  3.jpg\n",
      "3  Entertainment  4.jpg\n",
      "4    Educational  5.jpg\n"
     ]
    }
   ],
   "source": [
    "print()\n",
    "print(\"Dataframe shape:\", df.shape)\n",
    "print(\"Dataframe head:\")\n",
    "print(df.head())\n"
   ]
  },
  {
   "cell_type": "code",
   "execution_count": 6,
   "metadata": {},
   "outputs": [
    {
     "name": "stdout",
     "output_type": "stream",
     "text": [
      "Training set size:  1092\n",
      "Validation set size:  365\n",
      "Test set size:  365\n"
     ]
    }
   ],
   "source": [
    "paths = df['path']\n",
    "labels = df['label'] \n",
    "\n",
    "# Split the data into train, validation, and test sets\n",
    "paths_temp, paths_test, labels_temp, labels_test = train_test_split(paths, labels, test_size=0.2, random_state=42)\n",
    "\n",
    "# Split the temporary set into separate training and validation sets\n",
    "paths_train, paths_val, labels_train, labels_val = train_test_split(paths_temp, labels_temp, test_size=0.25, random_state=42)\n",
    "\n",
    "print(\"Training set size: \", len(paths_train))\n",
    "print(\"Validation set size: \", len(paths_val))\n",
    "print(\"Test set size: \", len(paths_test))"
   ]
  },
  {
   "cell_type": "code",
   "execution_count": 8,
   "metadata": {},
   "outputs": [
    {
     "name": "stdout",
     "output_type": "stream",
     "text": [
      "Found 1092 validated image filenames belonging to 2 classes.\n",
      "Found 365 validated image filenames belonging to 2 classes.\n"
     ]
    },
    {
     "name": "stdout",
     "output_type": "stream",
     "text": [
      "Found 365 validated image filenames belonging to 2 classes.\n"
     ]
    }
   ],
   "source": [
    "datagen = ImageDataGenerator(rescale=1./255.)\n",
    "\n",
    "train_generator = datagen.flow_from_dataframe(\n",
    "    dataframe=pd.DataFrame({'filename': paths_train, 'class': labels_train}),\n",
    "    directory='./mapped_unlabeled_data/',\n",
    "    x_col='filename',\n",
    "    y_col='class',\n",
    "    target_size=(224, 224),\n",
    "    batch_size=4,\n",
    "    class_mode='categorical'\n",
    ")\n",
    "\n",
    "val_generator = datagen.flow_from_dataframe(\n",
    "    dataframe=pd.DataFrame({'filename': paths_val, 'class': labels_val}),\n",
    "    directory='./mapped_unlabeled_data/',\n",
    "    x_col='filename',\n",
    "    y_col='class',\n",
    "    target_size=(224, 224),\n",
    "    batch_size=4,\n",
    "    class_mode='categorical'\n",
    ")\n",
    "\n",
    "test_generator = datagen.flow_from_dataframe(\n",
    "    dataframe=pd.DataFrame({'filename': paths_test, 'class': labels_test}),\n",
    "    directory='./mapped_unlabeled_data/',\n",
    "    x_col='filename',\n",
    "    y_col='class',\n",
    "    target_size=(224, 224),\n",
    "    batch_size=4,\n",
    "    class_mode='categorical'\n",
    ")"
   ]
  },
  {
   "cell_type": "code",
   "execution_count": null,
   "metadata": {},
   "outputs": [],
   "source": []
  },
  {
   "cell_type": "code",
   "execution_count": null,
   "metadata": {},
   "outputs": [],
   "source": [
    "# Visualize the training process\n",
    "history = model.history\n",
    "\n",
    "figure, axis = plt.subplots(1, 2, figsize=(16, 5))\n",
    "axis[0].plot(history.history['loss'], label='Training Loss')\n",
    "axis[0].plot(history.history['val_loss'], label='Validation Loss')\n",
    "axis[0].set_title('Training and Validation Loss')\n",
    "axis[0].set_xlabel('Epochs')\n",
    "axis[0].set_ylabel('Loss')\n",
    "axis[0].legend()\n",
    "\n",
    "axis[1].plot(history.history['accuracy'], label='Training Accuracy')\n",
    "axis[1].plot(history.history['val_accuracy'], label='Validation Accuracy')\n",
    "axis[1].set_title('Training and Validation Accuracy')\n",
    "axis[1].set_xlabel('Epochs')\n",
    "axis[1].set_ylabel('Accuracy')\n",
    "axis[1].legend()\n",
    "\n",
    "plt.show()"
   ]
  },
  {
   "cell_type": "code",
   "execution_count": null,
   "metadata": {},
   "outputs": [],
   "source": []
  }
 ],
 "metadata": {
  "kernelspec": {
   "display_name": "youtube_classifier_extention",
   "language": "python",
   "name": "python3"
  },
  "language_info": {
   "codemirror_mode": {
    "name": "ipython",
    "version": 3
   },
   "file_extension": ".py",
   "mimetype": "text/x-python",
   "name": "python",
   "nbconvert_exporter": "python",
   "pygments_lexer": "ipython3",
   "version": "3.11.4"
  },
  "orig_nbformat": 4
 },
 "nbformat": 4,
 "nbformat_minor": 2
}
